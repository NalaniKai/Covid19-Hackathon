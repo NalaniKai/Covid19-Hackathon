{
 "cells": [
  {
   "cell_type": "code",
   "execution_count": 24,
   "metadata": {},
   "outputs": [
    {
     "output_type": "execute_result",
     "data": {
      "text/plain": "         date       state  fips  cases  deaths\n0  2020-01-21  Washington    53      1       0\n1  2020-01-22  Washington    53      1       0\n2  2020-01-23  Washington    53      1       0\n3  2020-01-24    Illinois    17      1       0\n4  2020-01-24  Washington    53      1       0",
      "text/html": "<div>\n<style scoped>\n    .dataframe tbody tr th:only-of-type {\n        vertical-align: middle;\n    }\n\n    .dataframe tbody tr th {\n        vertical-align: top;\n    }\n\n    .dataframe thead th {\n        text-align: right;\n    }\n</style>\n<table border=\"1\" class=\"dataframe\">\n  <thead>\n    <tr style=\"text-align: right;\">\n      <th></th>\n      <th>date</th>\n      <th>state</th>\n      <th>fips</th>\n      <th>cases</th>\n      <th>deaths</th>\n    </tr>\n  </thead>\n  <tbody>\n    <tr>\n      <th>0</th>\n      <td>2020-01-21</td>\n      <td>Washington</td>\n      <td>53</td>\n      <td>1</td>\n      <td>0</td>\n    </tr>\n    <tr>\n      <th>1</th>\n      <td>2020-01-22</td>\n      <td>Washington</td>\n      <td>53</td>\n      <td>1</td>\n      <td>0</td>\n    </tr>\n    <tr>\n      <th>2</th>\n      <td>2020-01-23</td>\n      <td>Washington</td>\n      <td>53</td>\n      <td>1</td>\n      <td>0</td>\n    </tr>\n    <tr>\n      <th>3</th>\n      <td>2020-01-24</td>\n      <td>Illinois</td>\n      <td>17</td>\n      <td>1</td>\n      <td>0</td>\n    </tr>\n    <tr>\n      <th>4</th>\n      <td>2020-01-24</td>\n      <td>Washington</td>\n      <td>53</td>\n      <td>1</td>\n      <td>0</td>\n    </tr>\n  </tbody>\n</table>\n</div>"
     },
     "metadata": {},
     "execution_count": 24
    }
   ],
   "source": [
    "import pandas\n",
    "\n",
    "data_path = \"../data/\"\n",
    "filename = \"NY_Times_us-states.csv\"\n",
    "\n",
    "df = pandas.read_csv(data_path + filename)\n",
    "df.head()"
   ]
  },
  {
   "cell_type": "code",
   "execution_count": 25,
   "metadata": {},
   "outputs": [
    {
     "output_type": "execute_result",
     "data": {
      "text/plain": "              fips          cases        deaths\ncount  5624.000000    5624.000000   5624.000000\nmean     31.642070   15898.442923    893.936878\nstd      18.494812   41049.471217   3007.650507\nmin       1.000000       1.000000      0.000000\n25%      17.000000     256.750000      4.000000\n50%      31.000000    2599.000000     73.500000\n75%      46.000000   13433.250000    489.500000\nmax      78.000000  386490.000000  30511.000000",
      "text/html": "<div>\n<style scoped>\n    .dataframe tbody tr th:only-of-type {\n        vertical-align: middle;\n    }\n\n    .dataframe tbody tr th {\n        vertical-align: top;\n    }\n\n    .dataframe thead th {\n        text-align: right;\n    }\n</style>\n<table border=\"1\" class=\"dataframe\">\n  <thead>\n    <tr style=\"text-align: right;\">\n      <th></th>\n      <th>fips</th>\n      <th>cases</th>\n      <th>deaths</th>\n    </tr>\n  </thead>\n  <tbody>\n    <tr>\n      <th>count</th>\n      <td>5624.000000</td>\n      <td>5624.000000</td>\n      <td>5624.000000</td>\n    </tr>\n    <tr>\n      <th>mean</th>\n      <td>31.642070</td>\n      <td>15898.442923</td>\n      <td>893.936878</td>\n    </tr>\n    <tr>\n      <th>std</th>\n      <td>18.494812</td>\n      <td>41049.471217</td>\n      <td>3007.650507</td>\n    </tr>\n    <tr>\n      <th>min</th>\n      <td>1.000000</td>\n      <td>1.000000</td>\n      <td>0.000000</td>\n    </tr>\n    <tr>\n      <th>25%</th>\n      <td>17.000000</td>\n      <td>256.750000</td>\n      <td>4.000000</td>\n    </tr>\n    <tr>\n      <th>50%</th>\n      <td>31.000000</td>\n      <td>2599.000000</td>\n      <td>73.500000</td>\n    </tr>\n    <tr>\n      <th>75%</th>\n      <td>46.000000</td>\n      <td>13433.250000</td>\n      <td>489.500000</td>\n    </tr>\n    <tr>\n      <th>max</th>\n      <td>78.000000</td>\n      <td>386490.000000</td>\n      <td>30511.000000</td>\n    </tr>\n  </tbody>\n</table>\n</div>"
     },
     "metadata": {},
     "execution_count": 25
    }
   ],
   "source": [
    "df.describe()"
   ]
  },
  {
   "cell_type": "code",
   "execution_count": 27,
   "metadata": {},
   "outputs": [
    {
     "output_type": "execute_result",
     "data": {
      "text/plain": "143"
     },
     "metadata": {},
     "execution_count": 27
    }
   ],
   "source": [
    "from datetime import date, datetime\n",
    "min_date = datetime.strptime(min(df[\"date\"]), '%Y-%m-%d')\n",
    "max_date = datetime.strptime(max(df[\"date\"]), '%Y-%m-%d')\n",
    "\n",
    "num_days = (max_date-min_date).days\n",
    "num_days"
   ]
  },
  {
   "cell_type": "code",
   "execution_count": null,
   "metadata": {},
   "outputs": [],
   "source": []
  }
 ],
 "metadata": {
  "language_info": {
   "codemirror_mode": {
    "name": "ipython",
    "version": 3
   },
   "file_extension": ".py",
   "mimetype": "text/x-python",
   "name": "python",
   "nbconvert_exporter": "python",
   "pygments_lexer": "ipython3",
   "version": "3.6.3-candidate"
  },
  "orig_nbformat": 2,
  "kernelspec": {
   "name": "python36364bit45256134341d453ca863dde54830b6e0",
   "display_name": "Python 3.6.3 64-bit"
  }
 },
 "nbformat": 4,
 "nbformat_minor": 2
}