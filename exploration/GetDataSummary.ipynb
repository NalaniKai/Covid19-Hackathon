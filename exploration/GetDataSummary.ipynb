{
 "cells": [
  {
   "cell_type": "code",
   "execution_count": 8,
   "metadata": {},
   "outputs": [
    {
     "output_type": "stream",
     "name": "stdout",
     "text": "date     county       state     fips  cases  deaths\n0  2020-01-21  Snohomish  Washington  53061.0      1       0\n1  2020-01-22  Snohomish  Washington  53061.0      1       0\n2  2020-01-23  Snohomish  Washington  53061.0      1       0\n3  2020-01-24       Cook    Illinois  17031.0      1       0\n4  2020-01-24  Snohomish  Washington  53061.0      1       0\n"
    }
   ],
   "source": [
    "import pandas\n",
    "\n",
    "data_path = \"../data/\"\n",
    "filename = \"us-counties.csv\"\n",
    "\n",
    "df = pandas.read_csv(data_path + filename)\n",
    "print(df.head())"
   ]
  },
  {
   "cell_type": "code",
   "execution_count": 9,
   "metadata": {},
   "outputs": [
    {
     "output_type": "stream",
     "name": "stdout",
     "text": "fips          cases         deaths\ncount  228269.000000  230714.000000  230714.000000\nmean    30085.541878     387.550456      21.782319\nstd     15345.539105    3639.985786     327.494408\nmin      1001.000000       0.000000       0.000000\n25%     18083.000000       5.000000       0.000000\n50%     29059.000000      21.000000       0.000000\n75%     45043.000000     100.000000       3.000000\nmax     56045.000000  213707.000000   21519.000000\n"
    }
   ],
   "source": [
    "print(df.describe())"
   ]
  },
  {
   "cell_type": "code",
   "execution_count": 10,
   "metadata": {},
   "outputs": [
    {
     "output_type": "execute_result",
     "data": {
      "text/plain": "         date     county       state     fips  cases  deaths  \\\n0  2020-01-21  Snohomish  Washington  53061.0      1       0   \n1  2020-01-22  Snohomish  Washington  53061.0      1       0   \n2  2020-01-23  Snohomish  Washington  53061.0      1       0   \n3  2020-01-24       Cook    Illinois  17031.0      1       0   \n4  2020-01-24  Snohomish  Washington  53061.0      1       0   \n\n           state-county  \n0  Washington-Snohomish  \n1  Washington-Snohomish  \n2  Washington-Snohomish  \n3         Illinois-Cook  \n4  Washington-Snohomish  ",
      "text/html": "<div>\n<style scoped>\n    .dataframe tbody tr th:only-of-type {\n        vertical-align: middle;\n    }\n\n    .dataframe tbody tr th {\n        vertical-align: top;\n    }\n\n    .dataframe thead th {\n        text-align: right;\n    }\n</style>\n<table border=\"1\" class=\"dataframe\">\n  <thead>\n    <tr style=\"text-align: right;\">\n      <th></th>\n      <th>date</th>\n      <th>county</th>\n      <th>state</th>\n      <th>fips</th>\n      <th>cases</th>\n      <th>deaths</th>\n      <th>state-county</th>\n    </tr>\n  </thead>\n  <tbody>\n    <tr>\n      <th>0</th>\n      <td>2020-01-21</td>\n      <td>Snohomish</td>\n      <td>Washington</td>\n      <td>53061.0</td>\n      <td>1</td>\n      <td>0</td>\n      <td>Washington-Snohomish</td>\n    </tr>\n    <tr>\n      <th>1</th>\n      <td>2020-01-22</td>\n      <td>Snohomish</td>\n      <td>Washington</td>\n      <td>53061.0</td>\n      <td>1</td>\n      <td>0</td>\n      <td>Washington-Snohomish</td>\n    </tr>\n    <tr>\n      <th>2</th>\n      <td>2020-01-23</td>\n      <td>Snohomish</td>\n      <td>Washington</td>\n      <td>53061.0</td>\n      <td>1</td>\n      <td>0</td>\n      <td>Washington-Snohomish</td>\n    </tr>\n    <tr>\n      <th>3</th>\n      <td>2020-01-24</td>\n      <td>Cook</td>\n      <td>Illinois</td>\n      <td>17031.0</td>\n      <td>1</td>\n      <td>0</td>\n      <td>Illinois-Cook</td>\n    </tr>\n    <tr>\n      <th>4</th>\n      <td>2020-01-24</td>\n      <td>Snohomish</td>\n      <td>Washington</td>\n      <td>53061.0</td>\n      <td>1</td>\n      <td>0</td>\n      <td>Washington-Snohomish</td>\n    </tr>\n  </tbody>\n</table>\n</div>"
     },
     "metadata": {},
     "execution_count": 10
    }
   ],
   "source": [
    "df[\"state-county\"] = df[\"state\"] + \"-\" + df[\"county\"]\n",
    "df.head()"
   ]
  },
  {
   "cell_type": "code",
   "execution_count": 20,
   "metadata": {},
   "outputs": [
    {
     "output_type": "execute_result",
     "data": {
      "text/plain": "143"
     },
     "metadata": {},
     "execution_count": 20
    }
   ],
   "source": [
    "from datetime import date, datetime\n",
    "min_date = datetime.strptime(min(df[\"date\"]), '%Y-%m-%d')\n",
    "max_date = datetime.strptime(max(df[\"date\"]), '%Y-%m-%d')\n",
    "\n",
    "num_days = (max_date-min_date).days"
   ]
  },
  {
   "cell_type": "code",
   "execution_count": null,
   "metadata": {},
   "outputs": [],
   "source": []
  }
 ],
 "metadata": {
  "language_info": {
   "codemirror_mode": {
    "name": "ipython",
    "version": 3
   },
   "file_extension": ".py",
   "mimetype": "text/x-python",
   "name": "python",
   "nbconvert_exporter": "python",
   "pygments_lexer": "ipython3",
   "version": "3.6.3-candidate"
  },
  "orig_nbformat": 2,
  "kernelspec": {
   "name": "python36364bit45256134341d453ca863dde54830b6e0",
   "display_name": "Python 3.6.3 64-bit"
  }
 },
 "nbformat": 4,
 "nbformat_minor": 2
}