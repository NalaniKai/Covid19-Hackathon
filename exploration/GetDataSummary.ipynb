{
 "cells": [
  {
   "cell_type": "code",
   "execution_count": 31,
   "metadata": {},
   "outputs": [
    {
     "output_type": "execute_result",
     "data": {
      "text/plain": "   location_id  StateFIPS StatePostal StateName         StatePolicy  Mandate  \\\n0          523          1          AL   Alabama            EmergDec        1   \n1          523          1          AL   Alabama         SchoolClose        1   \n2          523          1          AL   Alabama      GathRestrict25        1   \n3          523          1          AL   Alabama     GathRestrictAny        1   \n4          523          1          AL   Alabama  OtherBusinessClose        1   \n\n   DateIssued  DateEnacted  DateExpiry   DateEased  DateEnded  StateWide  \\\n0    20200313     20200313         NaN         NaN        NaN          1   \n1    20200314     20200318         NaN  20200601.0        NaN          1   \n2    20200319     20200319         NaN         NaN        NaN          1   \n3    20200319     20200319  20200522.0         NaN        NaN          1   \n4    20200319     20200319  20200522.0  20200430.0        NaN          1   \n\n   LastUpdated  \n0     20200324  \n1     20200522  \n2     20200420  \n3     20200511  \n4     20200511  ",
      "text/html": "<div>\n<style scoped>\n    .dataframe tbody tr th:only-of-type {\n        vertical-align: middle;\n    }\n\n    .dataframe tbody tr th {\n        vertical-align: top;\n    }\n\n    .dataframe thead th {\n        text-align: right;\n    }\n</style>\n<table border=\"1\" class=\"dataframe\">\n  <thead>\n    <tr style=\"text-align: right;\">\n      <th></th>\n      <th>location_id</th>\n      <th>StateFIPS</th>\n      <th>StatePostal</th>\n      <th>StateName</th>\n      <th>StatePolicy</th>\n      <th>Mandate</th>\n      <th>DateIssued</th>\n      <th>DateEnacted</th>\n      <th>DateExpiry</th>\n      <th>DateEased</th>\n      <th>DateEnded</th>\n      <th>StateWide</th>\n      <th>LastUpdated</th>\n    </tr>\n  </thead>\n  <tbody>\n    <tr>\n      <th>0</th>\n      <td>523</td>\n      <td>1</td>\n      <td>AL</td>\n      <td>Alabama</td>\n      <td>EmergDec</td>\n      <td>1</td>\n      <td>20200313</td>\n      <td>20200313</td>\n      <td>NaN</td>\n      <td>NaN</td>\n      <td>NaN</td>\n      <td>1</td>\n      <td>20200324</td>\n    </tr>\n    <tr>\n      <th>1</th>\n      <td>523</td>\n      <td>1</td>\n      <td>AL</td>\n      <td>Alabama</td>\n      <td>SchoolClose</td>\n      <td>1</td>\n      <td>20200314</td>\n      <td>20200318</td>\n      <td>NaN</td>\n      <td>20200601.0</td>\n      <td>NaN</td>\n      <td>1</td>\n      <td>20200522</td>\n    </tr>\n    <tr>\n      <th>2</th>\n      <td>523</td>\n      <td>1</td>\n      <td>AL</td>\n      <td>Alabama</td>\n      <td>GathRestrict25</td>\n      <td>1</td>\n      <td>20200319</td>\n      <td>20200319</td>\n      <td>NaN</td>\n      <td>NaN</td>\n      <td>NaN</td>\n      <td>1</td>\n      <td>20200420</td>\n    </tr>\n    <tr>\n      <th>3</th>\n      <td>523</td>\n      <td>1</td>\n      <td>AL</td>\n      <td>Alabama</td>\n      <td>GathRestrictAny</td>\n      <td>1</td>\n      <td>20200319</td>\n      <td>20200319</td>\n      <td>20200522.0</td>\n      <td>NaN</td>\n      <td>NaN</td>\n      <td>1</td>\n      <td>20200511</td>\n    </tr>\n    <tr>\n      <th>4</th>\n      <td>523</td>\n      <td>1</td>\n      <td>AL</td>\n      <td>Alabama</td>\n      <td>OtherBusinessClose</td>\n      <td>1</td>\n      <td>20200319</td>\n      <td>20200319</td>\n      <td>20200522.0</td>\n      <td>20200430.0</td>\n      <td>NaN</td>\n      <td>1</td>\n      <td>20200511</td>\n    </tr>\n  </tbody>\n</table>\n</div>"
     },
     "metadata": {},
     "execution_count": 31
    }
   ],
   "source": [
    "import pandas\n",
    "\n",
    "data_path = \"../data/\"\n",
    "filename = \"IMPERIAL_COLLEGE_USstatesCov19distancingpolicy_modified.csv\"\n",
    "\n",
    "df = pandas.read_csv(data_path + filename)\n",
    "df.head()"
   ]
  },
  {
   "cell_type": "code",
   "execution_count": 25,
   "metadata": {},
   "outputs": [
    {
     "output_type": "execute_result",
     "data": {
      "text/plain": "              fips          cases        deaths\ncount  5624.000000    5624.000000   5624.000000\nmean     31.642070   15898.442923    893.936878\nstd      18.494812   41049.471217   3007.650507\nmin       1.000000       1.000000      0.000000\n25%      17.000000     256.750000      4.000000\n50%      31.000000    2599.000000     73.500000\n75%      46.000000   13433.250000    489.500000\nmax      78.000000  386490.000000  30511.000000",
      "text/html": "<div>\n<style scoped>\n    .dataframe tbody tr th:only-of-type {\n        vertical-align: middle;\n    }\n\n    .dataframe tbody tr th {\n        vertical-align: top;\n    }\n\n    .dataframe thead th {\n        text-align: right;\n    }\n</style>\n<table border=\"1\" class=\"dataframe\">\n  <thead>\n    <tr style=\"text-align: right;\">\n      <th></th>\n      <th>fips</th>\n      <th>cases</th>\n      <th>deaths</th>\n    </tr>\n  </thead>\n  <tbody>\n    <tr>\n      <th>count</th>\n      <td>5624.000000</td>\n      <td>5624.000000</td>\n      <td>5624.000000</td>\n    </tr>\n    <tr>\n      <th>mean</th>\n      <td>31.642070</td>\n      <td>15898.442923</td>\n      <td>893.936878</td>\n    </tr>\n    <tr>\n      <th>std</th>\n      <td>18.494812</td>\n      <td>41049.471217</td>\n      <td>3007.650507</td>\n    </tr>\n    <tr>\n      <th>min</th>\n      <td>1.000000</td>\n      <td>1.000000</td>\n      <td>0.000000</td>\n    </tr>\n    <tr>\n      <th>25%</th>\n      <td>17.000000</td>\n      <td>256.750000</td>\n      <td>4.000000</td>\n    </tr>\n    <tr>\n      <th>50%</th>\n      <td>31.000000</td>\n      <td>2599.000000</td>\n      <td>73.500000</td>\n    </tr>\n    <tr>\n      <th>75%</th>\n      <td>46.000000</td>\n      <td>13433.250000</td>\n      <td>489.500000</td>\n    </tr>\n    <tr>\n      <th>max</th>\n      <td>78.000000</td>\n      <td>386490.000000</td>\n      <td>30511.000000</td>\n    </tr>\n  </tbody>\n</table>\n</div>"
     },
     "metadata": {},
     "execution_count": 25
    }
   ],
   "source": [
    "df.describe()"
   ]
  },
  {
   "cell_type": "code",
   "execution_count": 27,
   "metadata": {},
   "outputs": [
    {
     "output_type": "execute_result",
     "data": {
      "text/plain": "143"
     },
     "metadata": {},
     "execution_count": 27
    }
   ],
   "source": [
    "from datetime import date, datetime\n",
    "min_date = datetime.strptime(min(df[\"date\"]), '%Y-%m-%d')\n",
    "max_date = datetime.strptime(max(df[\"date\"]), '%Y-%m-%d')\n",
    "\n",
    "num_days = (max_date-min_date).days\n",
    "num_days"
   ]
  },
  {
   "cell_type": "code",
   "execution_count": 35,
   "metadata": {},
   "outputs": [
    {
     "output_type": "execute_result",
     "data": {
      "text/plain": "['EmergDec',\n 'GathRecomAny',\n 'GathRestrict10',\n 'GathRestrictAny',\n 'NEBusinessClose',\n 'OtherBusinessClose',\n 'PublicMask',\n 'Quarantine',\n 'RestaurantRestrict',\n 'SchoolClose',\n 'StayAtHome']"
     },
     "metadata": {},
     "execution_count": 35
    }
   ],
   "source": [
    "policies = df.groupby(\"StatePolicy\").count()\n",
    "policies_keep = policies[policies[\"StateName\"] >= 25]\n",
    "policies_keep.index.tolist()"
   ]
  }
 ],
 "metadata": {
  "language_info": {
   "codemirror_mode": {
    "name": "ipython",
    "version": 3
   },
   "file_extension": ".py",
   "mimetype": "text/x-python",
   "name": "python",
   "nbconvert_exporter": "python",
   "pygments_lexer": "ipython3",
   "version": "3.6.3-candidate"
  },
  "orig_nbformat": 2,
  "kernelspec": {
   "name": "python36364bit45256134341d453ca863dde54830b6e0",
   "display_name": "Python 3.6.3 64-bit"
  }
 },
 "nbformat": 4,
 "nbformat_minor": 2
}